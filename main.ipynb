{
 "cells": [
  {
   "cell_type": "code",
<<<<<<< HEAD
   "execution_count": null,
=======
   "execution_count": 1,
>>>>>>> aefc737 (add main)
   "metadata": {},
   "outputs": [],
   "source": [
    "from src.Layer import Layer\n",
    "from src.WFSLayer import WFSLayer\n",
    "from src.Geometry import Geometry\n",
    "from src.OSMLayer import OSMLayer\n",
    "from src.Isochrone import Isochrone\n",
    "import src.constants as c\n",
    "\n",
    "import os\n",
    "import dotenv\n",
    "\n",
    "dotenv.load_dotenv(override=True)\n",
    "\n",
    "postgres_url = os.getenv(\"POSTGRES_URL\")\n",
    "\n",
    "plangebied = Geometry(geom_wkt=c.ZUID_HOLLAND_GEOM).add_buffer(buffer_distance=50000)"
   ]
  },
  {
   "cell_type": "code",
<<<<<<< HEAD
<<<<<<< HEAD
   "execution_count": null,
=======
   "execution_count": 2,
>>>>>>> aefc737 (add main)
=======
   "execution_count": 4,
>>>>>>> 314a5d7 (add buurten)
   "metadata": {},
   "outputs": [],
   "source": [
    "# Get home location data\n",
<<<<<<< HEAD
<<<<<<< HEAD
    "gpkg_path = './data/the_parents.gpkg'\n",
    "the_parents = Layer(postgres_url=postgres_url)\n",
    "the_parents.from_geopackage(path=gpkg_path)\n",
=======
    "path = './data/the_parents.gpkg'\n",
    "the_parents = Layer(postgres_url=postgres_url)\n",
    "the_parents.from_geopackage(path=path)\n",
>>>>>>> aefc737 (add main)
=======
    "gpkg_path = './data/the_parents.gpkg'\n",
    "the_parents = Layer(postgres_url=postgres_url)\n",
    "the_parents.from_geopackage(path=gpkg_path)\n",
>>>>>>> 314a5d7 (add buurten)
    "the_parents.to_postgres(table_name='the_parents', schema_name='geonest')\n",
    "\n",
    "# Get isochrones for home locations\n",
    "the_parents_isochrones = Isochrone(\n",
    "    postgres_url=postgres_url,\n",
    "    contours_minutes=[30, 45],\n",
    "    api_key=os.getenv(\"MAPBOX_API_KEY\"),\n",
    "    points=the_parents.reproject('EPSG:4326').gdf\n",
    ")\n",
<<<<<<< HEAD
<<<<<<< HEAD
    "the_parents_isochrones.reproject('EPSG:28992').to_postgres(table_name='the_parents_isochrones', schema_name='geonest')"
=======
    "the_parents_isochrones.to_postgres(table_name='the_parents_isochrones', schema_name='geonest')"
>>>>>>> aefc737 (add main)
=======
    "the_parents_isochrones.reproject('EPSG:28992').to_postgres(table_name='the_parents_isochrones', schema_name='geonest')"
>>>>>>> 314a5d7 (add buurten)
   ]
  },
  {
   "cell_type": "code",
<<<<<<< HEAD
   "execution_count": null,
   "metadata": {},
   "outputs": [],
=======
   "execution_count": 2,
   "metadata": {},
   "outputs": [
    {
     "name": "stdout",
     "output_type": "stream",
     "text": [
      "obtained geometries from OSM 73\n"
     ]
    }
   ],
>>>>>>> aefc737 (add main)
   "source": [
    "# Get all climbing gyms in the area\n",
    "layer = OSMLayer(\n",
    "    postgres_url=postgres_url,\n",
    "    tags={'sport': 'climbing'},\n",
    "    area=plangebied\n",
    ")\n",
    "layer.to_postgres(table_name='osm_climbing', schema_name='geonest')\n",
    "\n",
    "# Get isochrones for climbing gyms\n",
    "isochrones = Isochrone(\n",
    "    postgres_url=postgres_url,\n",
<<<<<<< HEAD
    "    contours_minutes=[15, 30],\n",
    "    api_key=os.getenv(\"MAPBOX_API_KEY\"),\n",
    "    points=layer.gdf\n",
    ")\n",
    "isochrones.reproject('EPSG:28992').to_postgres(table_name='osm_climbing_isochrone', schema_name='geonest')"
   ]
  },
  {
   "cell_type": "code",
   "execution_count": null,
   "metadata": {},
   "outputs": [],
   "source": [
    "# Get buurten from CBS\n",
    "CBS_WIJKENENBUURTEN_WFS_PARAMS = {\n",
    "    \"service\": \"WFS\",\n",
    "    \"version\": \"2.0.0\",\n",
    "    \"request\": \"GetFeature\",\n",
    "    \"typeName\": \"wijkenbuurten:buurten\",\n",
    "    \"outputFormat\": \"application/json\",\n",
    "    \"count\": 1000,\n",
    "    \"startindex\": 0\n",
    "}\n",
    "\n",
    "layer = WFSLayer(\n",
    "    postgres_url=postgres_url,\n",
    "    wfs_url='https://service.pdok.nl/cbs/wijkenbuurten/2023/wfs/v1_0',\n",
    "    params=CBS_WIJKENENBUURTEN_WFS_PARAMS,\n",
    "    area=plangebied,\n",
    ")\n",
    "layer.to_postgres(table_name='buurten', schema_name='geonest')"
   ]
  },
  {
   "cell_type": "code",
   "execution_count": null,
   "metadata": {},
   "outputs": [],
   "source": [
    "# Get all beaches in the area\n",
    "# layer = OSMLayer(\n",
    "#     postgres_url=postgres_url,\n",
    "#     tags={'natural': 'beach'},\n",
    "#     area=plangebied\n",
    "# )\n",
    "# print(layer.gdf)\n",
    "# layer.to_postgres(table_name='osm_beaches', schema_name='geonest')\n",
    "\n",
    "# Get isochrones for beaches\n",
    "isochrones = Isochrone(\n",
    "    postgres_url=postgres_url,\n",
=======
>>>>>>> aefc737 (add main)
    "    contours_minutes=[5, 10, 15, 30],\n",
    "    api_key=os.getenv(\"MAPBOX_API_KEY\"),\n",
    "    points=layer.gdf\n",
    ")\n",
<<<<<<< HEAD
    "isochrones.to_postgres(table_name='osm_beaches_isochrone', schema_name='geonest')\n",
    "# test"
=======
    "isochrones.to_postgres(table_name='osm_climbing_isochrone', schema_name='geonest')"
>>>>>>> aefc737 (add main)
   ]
  },
  {
   "cell_type": "code",
   "execution_count": 2,
   "metadata": {},
   "outputs": [
    {
     "name": "stdout",
     "output_type": "stream",
     "text": [
      "Retrieved 1000 features\n",
      "Retrieved 1000 features\n",
      "Retrieved 1000 features\n",
      "Retrieved 1000 features\n",
      "Retrieved 1000 features\n",
      "Retrieved 1000 features\n",
      "Retrieved 1000 features\n",
      "Retrieved 1000 features\n",
      "Retrieved 946 features\n"
     ]
    }
   ],
   "source": [
    "# Get buurten from CBS\n",
    "CBS_WIJKENENBUURTEN_WFS_PARAMS = {\n",
    "    \"service\": \"WFS\",\n",
    "    \"version\": \"2.0.0\",\n",
    "    \"request\": \"GetFeature\",\n",
    "    \"typeName\": \"wijkenbuurten:buurten\",\n",
    "    \"outputFormat\": \"application/json\",\n",
    "    \"count\": 1000,\n",
    "    \"startindex\": 0\n",
    "}\n",
    "\n",
    "layer = WFSLayer(\n",
    "    postgres_url=postgres_url,\n",
    "    wfs_url='https://service.pdok.nl/cbs/wijkenbuurten/2023/wfs/v1_0',\n",
    "    params=CBS_WIJKENENBUURTEN_WFS_PARAMS,\n",
    "    area=plangebied,\n",
    ")\n",
    "layer.to_postgres(table_name='buurten', schema_name='geonest')"
   ]
  },
  {
   "cell_type": "code",
   "execution_count": 3,
   "metadata": {},
   "outputs": [
    {
     "ename": "HTTPError",
     "evalue": "Failed to retrieve data. Status code: 429. Response: {\"message\":\"Too Many Requests\"}",
     "output_type": "error",
     "traceback": [
      "\u001b[1;31m---------------------------------------------------------------------------\u001b[0m",
      "\u001b[1;31mHTTPError\u001b[0m                                 Traceback (most recent call last)",
      "Cell \u001b[1;32mIn[3], line 11\u001b[0m\n\u001b[0;32m      1\u001b[0m \u001b[38;5;66;03m# Get all beaches in the area\u001b[39;00m\n\u001b[0;32m      2\u001b[0m \u001b[38;5;66;03m# layer = OSMLayer(\u001b[39;00m\n\u001b[0;32m      3\u001b[0m \u001b[38;5;66;03m#     postgres_url=postgres_url,\u001b[39;00m\n\u001b[1;32m   (...)\u001b[0m\n\u001b[0;32m      9\u001b[0m \n\u001b[0;32m     10\u001b[0m \u001b[38;5;66;03m# Get isochrones for beaches\u001b[39;00m\n\u001b[1;32m---> 11\u001b[0m isochrones \u001b[38;5;241m=\u001b[39m \u001b[43mIsochrone\u001b[49m\u001b[43m(\u001b[49m\n\u001b[0;32m     12\u001b[0m \u001b[43m    \u001b[49m\u001b[43mpostgres_url\u001b[49m\u001b[38;5;241;43m=\u001b[39;49m\u001b[43mpostgres_url\u001b[49m\u001b[43m,\u001b[49m\n\u001b[0;32m     13\u001b[0m \u001b[43m    \u001b[49m\u001b[43mcontours_minutes\u001b[49m\u001b[38;5;241;43m=\u001b[39;49m\u001b[43m[\u001b[49m\u001b[38;5;241;43m5\u001b[39;49m\u001b[43m,\u001b[49m\u001b[43m \u001b[49m\u001b[38;5;241;43m10\u001b[39;49m\u001b[43m,\u001b[49m\u001b[43m \u001b[49m\u001b[38;5;241;43m15\u001b[39;49m\u001b[43m,\u001b[49m\u001b[43m \u001b[49m\u001b[38;5;241;43m30\u001b[39;49m\u001b[43m]\u001b[49m\u001b[43m,\u001b[49m\n\u001b[0;32m     14\u001b[0m \u001b[43m    \u001b[49m\u001b[43mapi_key\u001b[49m\u001b[38;5;241;43m=\u001b[39;49m\u001b[43mos\u001b[49m\u001b[38;5;241;43m.\u001b[39;49m\u001b[43mgetenv\u001b[49m\u001b[43m(\u001b[49m\u001b[38;5;124;43m\"\u001b[39;49m\u001b[38;5;124;43mMAPBOX_API_KEY\u001b[39;49m\u001b[38;5;124;43m\"\u001b[39;49m\u001b[43m)\u001b[49m\u001b[43m,\u001b[49m\n\u001b[0;32m     15\u001b[0m \u001b[43m    \u001b[49m\u001b[43mpoints\u001b[49m\u001b[38;5;241;43m=\u001b[39;49m\u001b[43mlayer\u001b[49m\u001b[38;5;241;43m.\u001b[39;49m\u001b[43mgdf\u001b[49m\n\u001b[0;32m     16\u001b[0m \u001b[43m)\u001b[49m\n\u001b[0;32m     17\u001b[0m isochrones\u001b[38;5;241m.\u001b[39mto_postgres(table_name\u001b[38;5;241m=\u001b[39m\u001b[38;5;124m'\u001b[39m\u001b[38;5;124mosm_beaches_isochrone\u001b[39m\u001b[38;5;124m'\u001b[39m, schema_name\u001b[38;5;241m=\u001b[39m\u001b[38;5;124m'\u001b[39m\u001b[38;5;124mgeonest\u001b[39m\u001b[38;5;124m'\u001b[39m)\n",
      "File \u001b[1;32mc:\\Users\\gbecht\\OneDrive - Brink\\Documenten\\Repos\\3 projecten\\geonest\\src\\Isochrone.py:25\u001b[0m, in \u001b[0;36mIsochrone.__init__\u001b[1;34m(self, postgres_url, contours_minutes, api_key, points, mode)\u001b[0m\n\u001b[0;32m     23\u001b[0m \u001b[38;5;28mself\u001b[39m\u001b[38;5;241m.\u001b[39mcontours_minutes \u001b[38;5;241m=\u001b[39m contours_minutes\n\u001b[0;32m     24\u001b[0m \u001b[38;5;28mself\u001b[39m\u001b[38;5;241m.\u001b[39mpoints \u001b[38;5;241m=\u001b[39m points\n\u001b[1;32m---> 25\u001b[0m \u001b[38;5;28;43mself\u001b[39;49m\u001b[38;5;241;43m.\u001b[39;49m\u001b[43mget_features\u001b[49m\u001b[43m(\u001b[49m\u001b[43m)\u001b[49m\n",
      "File \u001b[1;32mc:\\Users\\gbecht\\OneDrive - Brink\\Documenten\\Repos\\3 projecten\\geonest\\src\\Isochrone.py:48\u001b[0m, in \u001b[0;36mIsochrone.get_features\u001b[1;34m(self)\u001b[0m\n\u001b[0;32m     46\u001b[0m \u001b[38;5;28;01mfor\u001b[39;00m minutes \u001b[38;5;129;01min\u001b[39;00m \u001b[38;5;28mself\u001b[39m\u001b[38;5;241m.\u001b[39mcontours_minutes:\n\u001b[0;32m     47\u001b[0m     \u001b[38;5;28mself\u001b[39m\u001b[38;5;241m.\u001b[39mparams[\u001b[38;5;124m'\u001b[39m\u001b[38;5;124mcontours_minutes\u001b[39m\u001b[38;5;124m'\u001b[39m] \u001b[38;5;241m=\u001b[39m minutes\n\u001b[1;32m---> 48\u001b[0m     \u001b[38;5;28;43mself\u001b[39;49m\u001b[38;5;241;43m.\u001b[39;49m\u001b[43m_get_isochrones\u001b[49m\u001b[43m(\u001b[49m\u001b[43m)\u001b[49m\n",
      "File \u001b[1;32mc:\\Users\\gbecht\\OneDrive - Brink\\Documenten\\Repos\\3 projecten\\geonest\\src\\Isochrone.py:33\u001b[0m, in \u001b[0;36mIsochrone._get_isochrones\u001b[1;34m(self)\u001b[0m\n\u001b[0;32m     31\u001b[0m coordinates \u001b[38;5;241m=\u001b[39m \u001b[38;5;124mf\u001b[39m\u001b[38;5;124m'\u001b[39m\u001b[38;5;132;01m{\u001b[39;00mpoint\u001b[38;5;241m.\u001b[39mx\u001b[38;5;132;01m}\u001b[39;00m\u001b[38;5;124m,\u001b[39m\u001b[38;5;132;01m{\u001b[39;00mpoint\u001b[38;5;241m.\u001b[39my\u001b[38;5;132;01m}\u001b[39;00m\u001b[38;5;124m'\u001b[39m\n\u001b[0;32m     32\u001b[0m url \u001b[38;5;241m=\u001b[39m \u001b[38;5;28mself\u001b[39m\u001b[38;5;241m.\u001b[39murl \u001b[38;5;241m+\u001b[39m \u001b[38;5;124m'\u001b[39m\u001b[38;5;124m/\u001b[39m\u001b[38;5;124m'\u001b[39m \u001b[38;5;241m+\u001b[39m coordinates\n\u001b[1;32m---> 33\u001b[0m response \u001b[38;5;241m=\u001b[39m \u001b[38;5;28;43mself\u001b[39;49m\u001b[38;5;241;43m.\u001b[39;49m\u001b[43mget_response\u001b[49m\u001b[43m(\u001b[49m\u001b[43murl\u001b[49m\u001b[43m,\u001b[49m\u001b[43m \u001b[49m\u001b[38;5;28;43mself\u001b[39;49m\u001b[38;5;241;43m.\u001b[39;49m\u001b[43mparams\u001b[49m\u001b[43m)\u001b[49m\n\u001b[0;32m     34\u001b[0m response_gdf \u001b[38;5;241m=\u001b[39m \u001b[38;5;28mself\u001b[39m\u001b[38;5;241m.\u001b[39mget_gdf(response\u001b[38;5;241m.\u001b[39mtext)\n\u001b[0;32m     35\u001b[0m response_gdf\u001b[38;5;241m.\u001b[39mcrs \u001b[38;5;241m=\u001b[39m \u001b[38;5;124m'\u001b[39m\u001b[38;5;124mEPSG:4326\u001b[39m\u001b[38;5;124m'\u001b[39m\n",
      "File \u001b[1;32mc:\\Users\\gbecht\\OneDrive - Brink\\Documenten\\Repos\\3 projecten\\geonest\\src\\Layer.py:28\u001b[0m, in \u001b[0;36mLayer.get_response\u001b[1;34m(self, url, params)\u001b[0m\n\u001b[0;32m     26\u001b[0m     \u001b[38;5;28;01mreturn\u001b[39;00m response\n\u001b[0;32m     27\u001b[0m \u001b[38;5;28;01melse\u001b[39;00m:\n\u001b[1;32m---> 28\u001b[0m     \u001b[38;5;28;01mraise\u001b[39;00m requests\u001b[38;5;241m.\u001b[39mHTTPError(\n\u001b[0;32m     29\u001b[0m         \u001b[38;5;124mf\u001b[39m\u001b[38;5;124m\"\u001b[39m\u001b[38;5;124mFailed to retrieve data. Status code: \u001b[39m\u001b[38;5;132;01m{\u001b[39;00mresponse\u001b[38;5;241m.\u001b[39mstatus_code\u001b[38;5;132;01m}\u001b[39;00m\u001b[38;5;124m. Response: \u001b[39m\u001b[38;5;132;01m{\u001b[39;00mresponse\u001b[38;5;241m.\u001b[39mtext\u001b[38;5;132;01m}\u001b[39;00m\u001b[38;5;124m\"\u001b[39m\n\u001b[0;32m     30\u001b[0m     )\n",
      "\u001b[1;31mHTTPError\u001b[0m: Failed to retrieve data. Status code: 429. Response: {\"message\":\"Too Many Requests\"}"
     ]
    }
   ],
   "source": [
    "# Get all beaches in the area\n",
    "# layer = OSMLayer(\n",
    "#     postgres_url=postgres_url,\n",
    "#     tags={'natural': 'beach'},\n",
    "#     area=plangebied\n",
    "# )\n",
    "# print(layer.gdf)\n",
    "# layer.to_postgres(table_name='osm_beaches', schema_name='geonest')\n",
    "\n",
    "# Get isochrones for beaches\n",
    "isochrones = Isochrone(\n",
    "    postgres_url=postgres_url,\n",
    "    contours_minutes=[5, 10, 15, 30],\n",
    "    api_key=os.getenv(\"MAPBOX_API_KEY\"),\n",
    "    points=layer.gdf\n",
    ")\n",
    "isochrones.to_postgres(table_name='osm_beaches_isochrone', schema_name='geonest')"
   ]
  }
 ],
 "metadata": {
  "kernelspec": {
   "display_name": "geonest",
   "language": "python",
   "name": "python3"
  },
  "language_info": {
   "codemirror_mode": {
    "name": "ipython",
    "version": 3
   },
   "file_extension": ".py",
   "mimetype": "text/x-python",
   "name": "python",
   "nbconvert_exporter": "python",
   "pygments_lexer": "ipython3",
   "version": "3.11.10"
  }
 },
 "nbformat": 4,
 "nbformat_minor": 2
}
